{
 "cells": [
  {
   "cell_type": "code",
   "execution_count": 1,
   "id": "35311d97",
   "metadata": {},
   "outputs": [],
   "source": [
    "## Import necessary libraries\n",
    "\n",
    "import kagglehub  # For loading datasets from Kaggle\n",
    "import pandas as pd  # For data manipulation\n",
    "import numpy as np  # For numerical operations\n",
    "import seaborn as sns  # For data visualization\n",
    "import matplotlib.pyplot as plt  # For data visualization\n",
    "from sklearn.model_selection import train_test_split  # For splitting the data\n",
    "from sklearn.preprocessing import StandardScaler  # For scaling features\n",
    "from sklearn.ensemble import RandomForestRegressor  # For random forest regression\n",
    "from sklearn.linear_model import LinearRegression  # For linear regression\n",
    "from sklearn.tree import DecisionTreeRegressor  # For decision tree regression\n",
    "from sklearn.metrics import mean_absolute_error, mean_squared_error, r2_score  # For model evaluation\n",
    "import xgboost as xgb  # For XGBoost model\n",
    "import plotly.express as px  # For interactive plots\n",
    "import joblib # For saving and loading models\n",
    "import os  # For file operations\n",
    "# Import the dataset from Kaggle - https://www.kaggle.com/datasets/matheusnbrega/preo-do-aluguel-de-imveis-no-distrito-federal\n",
    "\n",
    "path = kagglehub.dataset_download(\"matheusnbrega/preo-do-aluguel-de-imveis-no-distrito-federal\")\n",
    "\n",
    "\n",
    "\n",
    "\n",
    "# Load the dataset\n",
    "dataset = \"imoveis-df.csv\""
   ]
  },
  {
   "cell_type": "code",
   "execution_count": 2,
   "id": "6db1a0f0",
   "metadata": {},
   "outputs": [
    {
     "name": "stdout",
     "output_type": "stream",
     "text": [
      "   preco         tipo area  quartos        bairro\n",
      "0   1800  Apartamento   45        1       asa sul\n",
      "1    600       Kitnet   30        1     asa norte\n",
      "2   1200  Apartamento   37        1  aguas claras\n",
      "3    600       Kitnet   25        1     asa norte\n",
      "4   2600   Hotel-Flat   49        1       asa sul\n",
      "<class 'pandas.core.frame.DataFrame'>\n",
      "RangeIndex: 2871 entries, 0 to 2870\n",
      "Data columns (total 5 columns):\n",
      " #   Column   Non-Null Count  Dtype \n",
      "---  ------   --------------  ----- \n",
      " 0   preco    2871 non-null   int64 \n",
      " 1   tipo     2871 non-null   object\n",
      " 2   area     2871 non-null   object\n",
      " 3   quartos  2871 non-null   int64 \n",
      " 4   bairro   2871 non-null   object\n",
      "dtypes: int64(2), object(3)\n",
      "memory usage: 112.3+ KB\n",
      "None\n"
     ]
    }
   ],
   "source": [
    "df = pd.read_csv(dataset, sep=\";\")\n",
    "\n",
    "print(df.head())\n",
    "print(df.info())"
   ]
  },
  {
   "cell_type": "code",
   "execution_count": 3,
   "id": "0413449c",
   "metadata": {},
   "outputs": [
    {
     "name": "stdout",
     "output_type": "stream",
     "text": [
      "preco         int64\n",
      "tipo         object\n",
      "area        float64\n",
      "quartos       int64\n",
      "bairro       object\n",
      "preco_m2    float64\n",
      "dtype: object\n",
      "              preco         area      quartos     preco_m2\n",
      "count   2610.000000  2610.000000  2610.000000  2610.000000\n",
      "mean    1943.854406    65.404981     1.761686    33.240761\n",
      "std     1762.733795    59.702568     1.195008    18.163419\n",
      "min      100.000000    10.000000     1.000000     2.000000\n",
      "25%      900.000000    30.000000     1.000000    21.034186\n",
      "50%     1300.000000    45.000000     1.000000    30.317781\n",
      "75%     2300.000000    70.000000     2.000000    40.000000\n",
      "max    15000.000000   400.000000    33.000000   318.181818\n"
     ]
    }
   ],
   "source": [
    "# Data Cleaning\n",
    "try:\n",
    "    df['area'] = df['area'].str.replace(\",\", \".\", regex=False)  # change comma to dot\n",
    "    df['area'] = pd.to_numeric(df['area'], errors='coerce')  # convert to numeric, coercing errors to NaN\n",
    "except Exception as e:\n",
    "    print(f\"Erro na conversão da coluna 'area': {e}\")\n",
    "\n",
    "# Remove Na values in 'area' and 'preco' columns\n",
    "df = df.dropna(subset=['area', 'preco'])\n",
    "\n",
    "# Feature engineering: create a new feature 'preco_m2' for price per square meter\n",
    "df['preco_m2'] = df['preco'] / df['area']  # price per square meter\n",
    "\n",
    "# Filter invalid values (outliers based on the area and price)\n",
    "df_filtered = df[(df['preco'] <= 15000) & (df['area'] <= 400) & (df['preco'] > 50) & (df['area'] > 5)]\n",
    "\n",
    "# Data description\n",
    "print(df_filtered.dtypes)\n",
    "print(df_filtered.describe())\n"
   ]
  },
  {
   "cell_type": "code",
   "execution_count": 4,
   "id": "71686a0f",
   "metadata": {},
   "outputs": [
    {
     "name": "stdout",
     "output_type": "stream",
     "text": [
      "Features shape: (2610, 38)\n",
      "Target shape: (2610,)\n"
     ]
    }
   ],
   "source": [
    "# One-hot encoding for categorical variables\n",
    "df_encoded = pd.get_dummies(df_filtered, columns=['tipo', 'bairro'], drop_first=True)\n",
    "\n",
    "# Separation of features and target variable\n",
    "X = df_encoded.drop(['preco', 'preco_m2'], axis=1)\n",
    "y = df_encoded['preco']\n",
    "\n",
    "# Applying standardization to the features\n",
    "scaler = StandardScaler()\n",
    "\n",
    "# selecting only numeric columns for scaling\n",
    "numeric_cols = X.select_dtypes(include=['float64', 'int64']).columns\n",
    "\n",
    "# Adjusting the scaler to the numeric columns\n",
    "X[numeric_cols] = scaler.fit_transform(X[numeric_cols])\n",
    "\n",
    "# Check the features shape\n",
    "print(f'Features shape: {X.shape}')\n",
    "print(f'Target shape: {y.shape}')\n"
   ]
  },
  {
   "cell_type": "code",
   "execution_count": 5,
   "id": "cd2b0d4c",
   "metadata": {},
   "outputs": [
    {
     "name": "stdout",
     "output_type": "stream",
     "text": [
      "Distribuição da variável 'preco' no conjunto de treino: count     2088.000000\n",
      "mean      1955.874521\n",
      "std       1761.398123\n",
      "min        100.000000\n",
      "25%        900.000000\n",
      "50%       1300.000000\n",
      "75%       2340.000000\n",
      "max      14000.000000\n",
      "Name: preco, dtype: float64\n",
      "Distribuição da variável 'preco' no conjunto de teste: count      522.000000\n",
      "mean      1895.773946\n",
      "std       1768.941670\n",
      "min        200.000000\n",
      "25%        900.000000\n",
      "50%       1300.000000\n",
      "75%       2200.000000\n",
      "max      15000.000000\n",
      "Name: preco, dtype: float64\n",
      "X_train shape: (2088, 38)\n",
      "X_test shape: (522, 38)\n",
      "y_train shape: (2088,)\n",
      "y_test shape: (522,)\n"
     ]
    }
   ],
   "source": [
    "# Divide into training and testing sets\n",
    "X_train, X_test, y_train, y_test = train_test_split(X, y, test_size=0.2, random_state=42)\n",
    "\n",
    "# Verify the distribution of the target variable in train and test sets\n",
    "print(f\"Distribuição da variável 'preco' no conjunto de treino: {y_train.describe()}\")\n",
    "print(f\"Distribuição da variável 'preco' no conjunto de teste: {y_test.describe()}\")\n",
    "\n",
    "print(f'X_train shape: {X_train.shape}')\n",
    "print(f'X_test shape: {X_test.shape}')\n",
    "print(f'y_train shape: {y_train.shape}')\n",
    "print(f'y_test shape: {y_test.shape}')\n"
   ]
  },
  {
   "cell_type": "code",
   "execution_count": 6,
   "id": "b13ecd19",
   "metadata": {},
   "outputs": [
    {
     "data": {
      "image/png": "[encoded data removed]",
      "text/plain": [
       "<Figure size 1000x600 with 1 Axes>"
      ]
     },
     "metadata": {},
     "output_type": "display_data"
    },
    {
     "name": "stdout",
     "output_type": "stream",
     "text": [
      "Linear Regression - MAE: 574.59, RMSE: 928.73, R²: 0.7238\n",
      "Decision Tree - MAE: 473.54, RMSE: 887.86, R²: 0.7476\n",
      "Random Forest - MAE: 421.82, RMSE: 766.43, R²: 0.8119\n",
      "XGBoost - MAE: 400.45, RMSE: 712.41, R²: 0.8375\n"
     ]
    }
   ],
   "source": [
    "# Model training and evaluation\n",
    "models = {\n",
    "    'Linear Regression': LinearRegression(),\n",
    "    'Decision Tree': DecisionTreeRegressor(random_state=42),\n",
    "    'Random Forest': RandomForestRegressor(n_estimators=100, random_state=42),\n",
    "    'XGBoost': xgb.XGBRegressor(random_state=42)\n",
    "}\n",
    "\n",
    "results = {}\n",
    "\n",
    "# Train each model and evaluate\n",
    "for model_name, model in models.items():\n",
    "    model.fit(X_train, y_train)\n",
    "    y_pred = model.predict(X_test)\n",
    "    \n",
    "    mae = mean_absolute_error(y_test, y_pred)\n",
    "    rmse = np.sqrt(mean_squared_error(y_test, y_pred))\n",
    "    r2 = r2_score(y_test, y_pred)\n",
    "    \n",
    "    # Store the results\n",
    "    results[model_name] = {'MAE': mae, 'RMSE': rmse, 'R²': r2}\n",
    "\n",
    "# Show the results in a more visual way\n",
    "results_df = pd.DataFrame(results).T.reset_index().rename(columns={'index': 'Modelo'})\n",
    "plt.figure(figsize=(10, 6))\n",
    "sns.barplot(data=results_df, x='Modelo', y='R²', palette='viridis')\n",
    "plt.title('Comparação de Modelos - R² Score')\n",
    "plt.ylim(0, 1)\n",
    "plt.xticks(rotation=45)\n",
    "plt.tight_layout()\n",
    "plt.show()\n",
    "\n",
    "# Show individual results\n",
    "for model_name, metrics in results.items():\n",
    "    print(f\"{model_name} - MAE: {metrics['MAE']:.2f}, RMSE: {metrics['RMSE']:.2f}, R²: {metrics['R²']:.4f}\")\n"
   ]
  },
  {
   "cell_type": "code",
   "execution_count": 7,
   "id": "ea5fc01e",
   "metadata": {},
   "outputs": [
    {
     "data": {
      "image/png": "[encoded data removed]",
      "text/plain": [
       "<Figure size 1200x600 with 1 Axes>"
      ]
     },
     "metadata": {},
     "output_type": "display_data"
    }
   ],
   "source": [
    "# Feature importance\n",
    "importances = model.feature_importances_\n",
    "features = X.columns\n",
    "feature_df = pd.DataFrame({'feature': features, 'importance': importances})\n",
    "\n",
    "# Sorting the features by importance\n",
    "feature_df = feature_df.sort_values(by='importance', ascending=False)\n",
    "\n",
    "# Show top 10 most important features\n",
    "plt.figure(figsize=(12,6))\n",
    "sns.barplot(data=feature_df.head(10), x='importance', y='feature', palette='viridis')\n",
    "plt.title('Top 10 Features - Importance')\n",
    "plt.tight_layout()\n",
    "plt.show()\n"
   ]
  },
  {
   "cell_type": "code",
   "execution_count": 8,
   "id": "761a2cb0",
   "metadata": {},
   "outputs": [
    {
     "data": {
      "application/vnd.plotly.v1+json": {
       "config": {
        "plotlyServerURL": "https://plot.ly"
       },
       "data": [
        {
         "alignmentgroup": "True",
         "hovertemplate": "bairro=%{x}<br>Preço Médio (R$)=%{y}<extra></extra>",
         "legendgroup": "",
         "marker": {
          "color": "#636efa",
          "pattern": {
           "shape": ""
          }
         },
         "name": "",
         "offsetgroup": "",
         "orientation": "v",
         "showlegend": false,
         "textposition": "auto",
         "type": "bar",
         "x": [
          "aguas claras",
          "areal",
          "asa norte",
          "asa sul",
          "candangolandia",
          "ceilandia",
          "cruzeiro",
          "gama",
          "guara i",
          "guara ii",
          "jardim botanico",
          "lago norte",
          "lago sul",
          "lucio costa",
          "mangueiral",
          "noroeste",
          "nucleo bandeirante",
          "octogonal",
          "paranoa",
          "park sul",
          "park way",
          "recanto das emas",
          "riacho fundo",
          "samambaia",
          "santa maria",
          "sobradinho",
          "sudoeste",
          "taguatinga",
          "vicente pires"
         ],
         "xaxis": "x",
         "y": [
          1733.9540229885058,
          982.3333333333334,
          2033.417933130699,
          3123.0073529411766,
          1200,
          877.88,
          1651.7045454545455,
          1481.875,
          1588.0208333333333,
          1672.5,
          3157.9411764705883,
          1671.282258064516,
          5861.538461538462,
          1213.4285714285713,
          1602.7272727272727,
          3695.4545454545455,
          1100.909090909091,
          3752.9411764705883,
          912.5,
          2848.4864864864867,
          8333.333333333334,
          804.1666666666666,
          1012.1739130434783,
          1010.8214285714286,
          902.6666666666666,
          1727.9411764705883,
          2190.4363636363637,
          1135.6122448979593,
          1107.5
         ],
         "yaxis": "y"
        }
       ],
       "layout": {
        "barmode": "relative",
        "legend": {
         "tracegroupgap": 0
        },
        "template": {
         "data": {
          "bar": [
           {
            "error_x": {
             "color": "#2a3f5f"
            },
            "error_y": {
             "color": "#2a3f5f"
            },
            "marker": {
             "line": {
              "color": "#E5ECF6",
              "width": 0.5
             },
             "pattern": {
              "fillmode": "overlay",
              "size": 10,
              "solidity": 0.2
             }
            },
            "type": "bar"
           }
          ],
          "barpolar": [
           {
            "marker": {
             "line": {
              "color": "#E5ECF6",
              "width": 0.5
             },
             "pattern": {
              "fillmode": "overlay",
              "size": 10,
              "solidity": 0.2
             }
            },
            "type": "barpolar"
           }
          ],
          "carpet": [
           {
            "aaxis": {
             "endlinecolor": "#2a3f5f",
             "gridcolor": "white",
             "linecolor": "white",
             "minorgridcolor": "white",
             "startlinecolor": "#2a3f5f"
            },
            "baxis": {
             "endlinecolor": "#2a3f5f",
             "gridcolor": "white",
             "linecolor": "white",
             "minorgridcolor": "white",
             "startlinecolor": "#2a3f5f"
            },
            "type": "carpet"
           }
          ],
          "choropleth": [
           {
            "colorbar": {
             "outlinewidth": 0,
             "ticks": ""
            },
            "type": "choropleth"
           }
          ],
          "contour": [
           {
            "colorbar": {
             "outlinewidth": 0,
             "ticks": ""
            },
            "colorscale": [
             [
              0,
              "#0d0887"
             ],
             [
              0.1111111111111111,
              "#46039f"
             ],
             [
              0.2222222222222222,
              "#7201a8"
             ],
             [
              0.3333333333333333,
              "#9c179e"
             ],
             [
              0.4444444444444444,
              "#bd3786"
             ],
             [
              0.5555555555555556,
              "#d8576b"
             ],
             [
              0.6666666666666666,
              "#ed7953"
             ],
             [
              0.7777777777777778,
              "#fb9f3a"
             ],
             [
              0.8888888888888888,
              "#fdca26"
             ],
             [
              1,
              "#f0f921"
             ]
            ],
            "type": "contour"
           }
          ],
          "contourcarpet": [
           {
            "colorbar": {
             "outlinewidth": 0,
             "ticks": ""
            },
            "type": "contourcarpet"
           }
          ],
          "heatmap": [
           {
            "colorbar": {
             "outlinewidth": 0,
             "ticks": ""
            },
            "colorscale": [
             [
              0,
              "#0d0887"
             ],
             [
              0.1111111111111111,
              "#46039f"
             ],
             [
              0.2222222222222222,
              "#7201a8"
             ],
             [
              0.3333333333333333,
              "#9c179e"
             ],
             [
              0.4444444444444444,
              "#bd3786"
             ],
             [
              0.5555555555555556,
              "#d8576b"
             ],
             [
              0.6666666666666666,
              "#ed7953"
             ],
             [
              0.7777777777777778,
              "#fb9f3a"
             ],
             [
              0.8888888888888888,
              "#fdca26"
             ],
             [
              1,
              "#f0f921"
             ]
            ],
            "type": "heatmap"
           }
          ],
          "heatmapgl": [
           {
            "colorbar": {
             "outlinewidth": 0,
             "ticks": ""
            },
            "colorscale": [
             [
              0,
              "#0d0887"
             ],
             [
              0.1111111111111111,
              "#46039f"
             ],
             [
              0.2222222222222222,
              "#7201a8"
             ],
             [
              0.3333333333333333,
              "#9c179e"
             ],
             [
              0.4444444444444444,
              "#bd3786"
             ],
             [
              0.5555555555555556,
              "#d8576b"
             ],
             [
              0.6666666666666666,
              "#ed7953"
             ],
             [
              0.7777777777777778,
              "#fb9f3a"
             ],
             [
              0.8888888888888888,
              "#fdca26"
             ],
             [
              1,
              "#f0f921"
             ]
            ],
            "type": "heatmapgl"
           }
          ],
          "histogram": [
           {
            "marker": {
             "pattern": {
              "fillmode": "overlay",
              "size": 10,
              "solidity": 0.2
             }
            },
            "type": "histogram"
           }
          ],
          "histogram2d": [
           {
            "colorbar": {
             "outlinewidth": 0,
             "ticks": ""
            },
            "colorscale": [
             [
              0,
              "#0d0887"
             ],
             [
              0.1111111111111111,
              "#46039f"
             ],
             [
              0.2222222222222222,
              "#7201a8"
             ],
             [
              0.3333333333333333,
              "#9c179e"
             ],
             [
              0.4444444444444444,
              "#bd3786"
             ],
             [
              0.5555555555555556,
              "#d8576b"
             ],
             [
              0.6666666666666666,
              "#ed7953"
             ],
             [
              0.7777777777777778,
              "#fb9f3a"
             ],
             [
              0.8888888888888888,
              "#fdca26"
             ],
             [
              1,
              "#f0f921"
             ]
            ],
            "type": "histogram2d"
           }
          ],
          "histogram2dcontour": [
           {
            "colorbar": {
             "outlinewidth": 0,
             "ticks": ""
            },
            "colorscale": [
             [
              0,
              "#0d0887"
             ],
             [
              0.1111111111111111,
              "#46039f"
             ],
             [
              0.2222222222222222,
              "#7201a8"
             ],
             [
              0.3333333333333333,
              "#9c179e"
             ],
             [
              0.4444444444444444,
              "#bd3786"
             ],
             [
              0.5555555555555556,
              "#d8576b"
             ],
             [
              0.6666666666666666,
              "#ed7953"
             ],
             [
              0.7777777777777778,
              "#fb9f3a"
             ],
             [
              0.8888888888888888,
              "#fdca26"
             ],
             [
              1,
              "#f0f921"
             ]
            ],
            "type": "histogram2dcontour"
           }
          ],
          "mesh3d": [
           {
            "colorbar": {
             "outlinewidth": 0,
             "ticks": ""
            },
            "type": "mesh3d"
           }
          ],
          "parcoords": [
           {
            "line": {
             "colorbar": {
              "outlinewidth": 0,
              "ticks": ""
             }
            },
            "type": "parcoords"
           }
          ],
          "pie": [
           {
            "automargin": true,
            "type": "pie"
           }
          ],
          "scatter": [
           {
            "fillpattern": {
             "fillmode": "overlay",
             "size": 10,
             "solidity": 0.2
            },
            "type": "scatter"
           }
          ],
          "scatter3d": [
           {
            "line": {
             "colorbar": {
              "outlinewidth": 0,
              "ticks": ""
             }
            },
            "marker": {
             "colorbar": {
              "outlinewidth": 0,
              "ticks": ""
             }
            },
            "type": "scatter3d"
           }
          ],
          "scattercarpet": [
           {
            "marker": {
             "colorbar": {
              "outlinewidth": 0,
              "ticks": ""
             }
            },
            "type": "scattercarpet"
           }
          ],
          "scattergeo": [
           {
            "marker": {
             "colorbar": {
              "outlinewidth": 0,
              "ticks": ""
             }
            },
            "type": "scattergeo"
           }
          ],
          "scattergl": [
           {
            "marker": {
             "colorbar": {
              "outlinewidth": 0,
              "ticks": ""
             }
            },
            "type": "scattergl"
           }
          ],
          "scattermapbox": [
           {
            "marker": {
             "colorbar": {
              "outlinewidth": 0,
              "ticks": ""
             }
            },
            "type": "scattermapbox"
           }
          ],
          "scatterpolar": [
           {
            "marker": {
             "colorbar": {
              "outlinewidth": 0,
              "ticks": ""
             }
            },
            "type": "scatterpolar"
           }
          ],
          "scatterpolargl": [
           {
            "marker": {
             "colorbar": {
              "outlinewidth": 0,
              "ticks": ""
             }
            },
            "type": "scatterpolargl"
           }
          ],
          "scatterternary": [
           {
            "marker": {
             "colorbar": {
              "outlinewidth": 0,
              "ticks": ""
             }
            },
            "type": "scatterternary"
           }
          ],
          "surface": [
           {
            "colorbar": {
             "outlinewidth": 0,
             "ticks": ""
            },
            "colorscale": [
             [
              0,
              "#0d0887"
             ],
             [
              0.1111111111111111,
              "#46039f"
             ],
             [
              0.2222222222222222,
              "#7201a8"
             ],
             [
              0.3333333333333333,
              "#9c179e"
             ],
             [
              0.4444444444444444,
              "#bd3786"
             ],
             [
              0.5555555555555556,
              "#d8576b"
             ],
             [
              0.6666666666666666,
              "#ed7953"
             ],
             [
              0.7777777777777778,
              "#fb9f3a"
             ],
             [
              0.8888888888888888,
              "#fdca26"
             ],
             [
              1,
              "#f0f921"
             ]
            ],
            "type": "surface"
           }
          ],
          "table": [
           {
            "cells": {
             "fill": {
              "color": "#EBF0F8"
             },
             "line": {
              "color": "white"
             }
            },
            "header": {
             "fill": {
              "color": "#C8D4E3"
             },
             "line": {
              "color": "white"
             }
            },
            "type": "table"
           }
          ]
         },
         "layout": {
          "annotationdefaults": {
           "arrowcolor": "#2a3f5f",
           "arrowhead": 0,
           "arrowwidth": 1
          },
          "autotypenumbers": "strict",
          "coloraxis": {
           "colorbar": {
            "outlinewidth": 0,
            "ticks": ""
           }
          },
          "colorscale": {
           "diverging": [
            [
             0,
             "#8e0152"
            ],
            [
             0.1,
             "#c51b7d"
            ],
            [
             0.2,
             "#de77ae"
            ],
            [
             0.3,
             "#f1b6da"
            ],
            [
             0.4,
             "#fde0ef"
            ],
            [
             0.5,
             "#f7f7f7"
            ],
            [
             0.6,
             "#e6f5d0"
            ],
            [
             0.7,
             "#b8e186"
            ],
            [
             0.8,
             "#7fbc41"
            ],
            [
             0.9,
             "#4d9221"
            ],
            [
             1,
             "#276419"
            ]
           ],
           "sequential": [
            [
             0,
             "#0d0887"
            ],
            [
             0.1111111111111111,
             "#46039f"
            ],
            [
             0.2222222222222222,
             "#7201a8"
            ],
            [
             0.3333333333333333,
             "#9c179e"
            ],
            [
             0.4444444444444444,
             "#bd3786"
            ],
            [
             0.5555555555555556,
             "#d8576b"
            ],
            [
             0.6666666666666666,
             "#ed7953"
            ],
            [
             0.7777777777777778,
             "#fb9f3a"
            ],
            [
             0.8888888888888888,
             "#fdca26"
            ],
            [
             1,
             "#f0f921"
            ]
           ],
           "sequentialminus": [
            [
             0,
             "#0d0887"
            ],
            [
             0.1111111111111111,
             "#46039f"
            ],
            [
             0.2222222222222222,
             "#7201a8"
            ],
            [
             0.3333333333333333,
             "#9c179e"
            ],
            [
             0.4444444444444444,
             "#bd3786"
            ],
            [
             0.5555555555555556,
             "#d8576b"
            ],
            [
             0.6666666666666666,
             "#ed7953"
            ],
            [
             0.7777777777777778,
             "#fb9f3a"
            ],
            [
             0.8888888888888888,
             "#fdca26"
            ],
            [
             1,
             "#f0f921"
            ]
           ]
          },
          "colorway": [
           "#636efa",
           "#EF553B",
           "#00cc96",
           "#ab63fa",
           "#FFA15A",
           "#19d3f3",
           "#FF6692",
           "#B6E880",
           "#FF97FF",
           "#FECB52"
          ],
          "font": {
           "color": "#2a3f5f"
          },
          "geo": {
           "bgcolor": "white",
           "lakecolor": "white",
           "landcolor": "#E5ECF6",
           "showlakes": true,
           "showland": true,
           "subunitcolor": "white"
          },
          "hoverlabel": {
           "align": "left"
          },
          "hovermode": "closest",
          "mapbox": {
           "style": "light"
          },
          "paper_bgcolor": "white",
          "plot_bgcolor": "#E5ECF6",
          "polar": {
           "angularaxis": {
            "gridcolor": "white",
            "linecolor": "white",
            "ticks": ""
           },
           "bgcolor": "#E5ECF6",
           "radialaxis": {
            "gridcolor": "white",
            "linecolor": "white",
            "ticks": ""
           }
          },
          "scene": {
           "xaxis": {
            "backgroundcolor": "#E5ECF6",
            "gridcolor": "white",
            "gridwidth": 2,
            "linecolor": "white",
            "showbackground": true,
            "ticks": "",
            "zerolinecolor": "white"
           },
           "yaxis": {
            "backgroundcolor": "#E5ECF6",
            "gridcolor": "white",
            "gridwidth": 2,
            "linecolor": "white",
            "showbackground": true,
            "ticks": "",
            "zerolinecolor": "white"
           },
           "zaxis": {
            "backgroundcolor": "#E5ECF6",
            "gridcolor": "white",
            "gridwidth": 2,
            "linecolor": "white",
            "showbackground": true,
            "ticks": "",
            "zerolinecolor": "white"
           }
          },
          "shapedefaults": {
           "line": {
            "color": "#2a3f5f"
           }
          },
          "ternary": {
           "aaxis": {
            "gridcolor": "white",
            "linecolor": "white",
            "ticks": ""
           },
           "baxis": {
            "gridcolor": "white",
            "linecolor": "white",
            "ticks": ""
           },
           "bgcolor": "#E5ECF6",
           "caxis": {
            "gridcolor": "white",
            "linecolor": "white",
            "ticks": ""
           }
          },
          "title": {
           "x": 0.05
          },
          "xaxis": {
           "automargin": true,
           "gridcolor": "white",
           "linecolor": "white",
           "ticks": "",
           "title": {
            "standoff": 15
           },
           "zerolinecolor": "white",
           "zerolinewidth": 2
          },
          "yaxis": {
           "automargin": true,
           "gridcolor": "white",
           "linecolor": "white",
           "ticks": "",
           "title": {
            "standoff": 15
           },
           "zerolinecolor": "white",
           "zerolinewidth": 2
          }
         }
        },
        "title": {
         "text": "Preço médio por bairro"
        },
        "xaxis": {
         "anchor": "y",
         "domain": [
          0,
          1
         ],
         "title": {
          "text": "Bairros"
         }
        },
        "yaxis": {
         "anchor": "x",
         "domain": [
          0,
          1
         ],
         "title": {
          "text": "Preço Médio (R$)"
         }
        }
       }
      }
     },
     "metadata": {},
     "output_type": "display_data"
    }
   ],
   "source": [
    "\n",
    "# Mean price per neighborhood\n",
    "df_mapa = df_filtered.groupby(\"bairro\").agg({\"preco\": \"mean\"}).reset_index()\n",
    "fig = px.bar(df_mapa, x=\"bairro\", y=\"preco\", title=\"Preço médio por bairro\", labels={\"preco\":\"Preço Médio (R$)\"})\n",
    "fig.update_layout(xaxis_title=\"Bairros\", yaxis_title=\"Preço Médio (R$)\")\n",
    "fig.show()\n"
   ]
  },
  {
   "cell_type": "code",
   "execution_count": null,
   "id": "1b4c7eb3",
   "metadata": {},
   "outputs": [
    {
     "name": "stdout",
     "output_type": "stream",
     "text": [
      "Modelo XGBoost salvo em: modelos_e_datasets\\modelo_xgboost.pkl\n",
      "Dataset final salvo em: modelos_e_datasets\\dataset_final.csv\n",
      "Scaler salvo em: modelos_e_datasets\\scaler.pkl\n"
     ]
    }
   ],
   "source": [
    "# Create a directory to save the model and dataset\n",
    "output_dir = \"modelos_e_datasets\"\n",
    "os.makedirs(output_dir, exist_ok=True)\n",
    "\n",
    "# Save the trained XGBoost model\n",
    "modelo_path = os.path.join(output_dir, 'modelo_xgboost.pkl')\n",
    "joblib.dump(models['XGBoost'], modelo_path)\n",
    "print(f'Modelo XGBoost salvo em: {modelo_path}')\n",
    "\n",
    "# Save final dataset\n",
    "dataset_path = os.path.join(output_dir, 'brasilia-rent-price-prediction-df.csv')\n",
    "df_filtered.to_csv(dataset_path, index=False)\n",
    "print(f'Dataset final salvo em: {dataset_path}')\n",
    "\n",
    "# Save the scaler\n",
    "scaler_path = os.path.join(output_dir, 'scaler.pkl')\n",
    "joblib.dump(scaler, scaler_path)  # Salva o scaler no diretório\n",
    "print(f'Scaler salvo em: {scaler_path}')"
   ]
  }
 ],
 "metadata": {
  "kernelspec": {
   "display_name": "base",
   "language": "python",
   "name": "python3"
  },
  "language_info": {
   "codemirror_mode": {
    "name": "ipython",
    "version": 3
   },
   "file_extension": ".py",
   "mimetype": "text/x-python",
   "name": "python",
   "nbconvert_exporter": "python",
   "pygments_lexer": "ipython3",
   "version": "3.11.9"
  }
 },
 "nbformat": 4,
 "nbformat_minor": 5
}
